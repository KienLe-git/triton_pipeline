{
 "cells": [
  {
   "cell_type": "code",
   "execution_count": 1,
   "metadata": {},
   "outputs": [],
   "source": [
    "import glob"
   ]
  },
  {
   "cell_type": "code",
   "execution_count": 2,
   "metadata": {},
   "outputs": [
    {
     "data": {
      "text/plain": [
       "['inception_graphdef', 'densenet_onnx']"
      ]
     },
     "execution_count": 2,
     "metadata": {},
     "output_type": "execute_result"
    }
   ],
   "source": [
    "ls_model = [i.split('/')[-1] for i in glob.glob('model_repository/[!.]*')]\n",
    "ls_model"
   ]
  },
  {
   "cell_type": "code",
   "execution_count": 3,
   "metadata": {},
   "outputs": [
    {
     "name": "stdout",
     "output_type": "stream",
     "text": [
      "inception_graphdef\n",
      "Request 1, batch size 1\n",
      "    0.826934 (505) = COFFEE MUG\n",
      "    0.124097 (969) = CUP\n",
      "    0.002272 (900) = WATER JUG\n",
      "PASS\n",
      "\n",
      "\n",
      "\n",
      "\n",
      "densenet_onnx\n",
      "Request 1, batch size 1\n",
      "    13.915169 (504) = COFFEE MUG\n",
      "    12.018229 (968) = CUP\n",
      "    9.839120 (967) = ESPRESSO\n",
      "PASS\n",
      "\n",
      "\n",
      "\n",
      "\n"
     ]
    }
   ],
   "source": [
    "for model in ls_model:\n",
    "    print(model)\n",
    "    !python image_client.py -m {model} -c 3 -s INCEPTION -i http -u localhost:8000 data/mug.jpg\n",
    "    print('\\n\\n\\n')"
   ]
  },
  {
   "cell_type": "code",
   "execution_count": null,
   "metadata": {},
   "outputs": [],
   "source": []
  }
 ],
 "metadata": {
  "kernelspec": {
   "display_name": "triton",
   "language": "python",
   "name": "python3"
  },
  "language_info": {
   "codemirror_mode": {
    "name": "ipython",
    "version": 3
   },
   "file_extension": ".py",
   "mimetype": "text/x-python",
   "name": "python",
   "nbconvert_exporter": "python",
   "pygments_lexer": "ipython3",
   "version": "3.8.16"
  },
  "orig_nbformat": 4,
  "vscode": {
   "interpreter": {
    "hash": "8af044a55135b082f754ddacc897481f600d1526dc10d902184e16bc01f940b9"
   }
  }
 },
 "nbformat": 4,
 "nbformat_minor": 2
}
